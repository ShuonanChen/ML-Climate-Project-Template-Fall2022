{
 "cells": [
  {
   "cell_type": "markdown",
   "id": "1bad4a5b",
   "metadata": {},
   "source": [
    "# thanks to betanalpha and akis post \n",
    "- [this is the link for betanalpha](https://betanalpha.github.io/assets/case_studies/gaussian_processes.html#23_Fitting_A_General_Gaussian_Process_Posterior)\n",
    "- [this is the link for aki](https://avehtari.github.io/casestudies/Motorcycle/motorcycle_gpcourse.html#3_Heteroskedastic_GP_with_covariance_matrices)\n"
   ]
  },
  {
   "cell_type": "code",
   "execution_count": 1,
   "id": "92928a85",
   "metadata": {},
   "outputs": [
    {
     "name": "stdout",
     "output_type": "stream",
     "text": [
      "/opt/conda/bin/python\n",
      "3.9.4 | packaged by conda-forge | (default, May 10 2021, 22:13:33) \n",
      "[GCC 9.3.0]\n",
      "sys.version_info(major=3, minor=9, micro=4, releaselevel='final', serial=0)\n"
     ]
    }
   ],
   "source": [
    "import sys\n",
    "print(sys.executable)\n",
    "print(sys.version)\n",
    "print(sys.version_info)\n",
    "\n",
    "import numpy as np\n",
    "import matplotlib.pyplot as plt"
   ]
  },
  {
   "cell_type": "code",
   "execution_count": 2,
   "id": "a3a02c69",
   "metadata": {},
   "outputs": [],
   "source": [
    "import os\n",
    "\n",
    "from cmdstanpy import CmdStanModel\n",
    "\n"
   ]
  },
  {
   "cell_type": "code",
   "execution_count": null,
   "id": "8547c173",
   "metadata": {},
   "outputs": [],
   "source": []
  },
  {
   "cell_type": "markdown",
   "id": "64f8d887",
   "metadata": {},
   "source": [
    "# akis part\n",
    "11/26/2022"
   ]
  },
  {
   "cell_type": "code",
   "execution_count": null,
   "id": "8ab3873e",
   "metadata": {},
   "outputs": [],
   "source": []
  },
  {
   "cell_type": "code",
   "execution_count": null,
   "id": "2766d5e7",
   "metadata": {},
   "outputs": [],
   "source": []
  },
  {
   "cell_type": "code",
   "execution_count": null,
   "id": "ab6694b4",
   "metadata": {},
   "outputs": [],
   "source": []
  },
  {
   "cell_type": "code",
   "execution_count": null,
   "id": "9a3db691",
   "metadata": {},
   "outputs": [],
   "source": []
  },
  {
   "cell_type": "code",
   "execution_count": null,
   "id": "6e400fa9",
   "metadata": {},
   "outputs": [],
   "source": []
  },
  {
   "cell_type": "code",
   "execution_count": null,
   "id": "83d03ef0",
   "metadata": {},
   "outputs": [],
   "source": []
  },
  {
   "cell_type": "markdown",
   "id": "4176e449",
   "metadata": {},
   "source": [
    "# betanalpha part\n"
   ]
  },
  {
   "cell_type": "code",
   "execution_count": 3,
   "id": "81afb714",
   "metadata": {},
   "outputs": [
    {
     "data": {
      "text/plain": [
       "'stanfiles/bernoulli.stan'"
      ]
     },
     "execution_count": 3,
     "metadata": {},
     "output_type": "execute_result"
    }
   ],
   "source": [
    "stan_file"
   ]
  },
  {
   "cell_type": "code",
   "execution_count": 65,
   "id": "b75445d1",
   "metadata": {},
   "outputs": [
    {
     "name": "stderr",
     "output_type": "stream",
     "text": [
      "23:17:28 - cmdstanpy - INFO - compiling stan file /home/ubuntu/sequoia/stanfiles/simulate_GP.stan to exe file /home/ubuntu/sequoia/stanfiles/simulate_GP\n",
      "23:17:46 - cmdstanpy - INFO - compiled model executable: /home/ubuntu/sequoia/stanfiles/simulate_GP\n",
      "23:17:46 - cmdstanpy - WARNING - Stan compiler has produced 3 warnings:\n",
      "23:17:46 - cmdstanpy - WARNING - \n",
      "--- Translating Stan model to C++ code ---\n",
      "bin/stanc  --o=/home/ubuntu/sequoia/stanfiles/simulate_GP.hpp /home/ubuntu/sequoia/stanfiles/simulate_GP.stan\n",
      "Warning in '/home/ubuntu/sequoia/stanfiles/simulate_GP.stan', line 3, column 2: Declaration\n",
      "    of arrays by placing brackets after a variable name is deprecated and\n",
      "    will be removed in Stan 2.32.0. Instead use the array keyword before the\n",
      "    type. This can be changed automatically using the auto-format flag to\n",
      "    stanc\n",
      "Warning in '/home/ubuntu/sequoia/stanfiles/simulate_GP.stan', line 21, column 2: Declaration\n",
      "    of arrays by placing brackets after a variable name is deprecated and\n",
      "    will be removed in Stan 2.32.0. Instead use the array keyword before the\n",
      "    type. This can be changed automatically using the auto-format flag to\n",
      "    stanc\n",
      "Warning in '/home/ubuntu/sequoia/stanfiles/simulate_GP.stan', line 11, column 23: cov_exp_quad\n",
      "    is deprecated and will be removed in Stan 2.32.0. Use gp_exp_quad_cov\n",
      "    instead. This can be automatically changed using the canonicalize flag\n",
      "    for stanc\n",
      "\n",
      "--- Compiling, linking C++ code ---\n",
      "/opt/conda/envs/pystan/bin/x86_64-conda-linux-gnu-c++ -fvisibility-inlines-hidden -std=c++17 -fmessage-length=0 -march=nocona -mtune=haswell -ftree-vectorize -fPIC -fstack-protector-strong -fno-plt -O2 -ffunction-sections -pipe -isystem /opt/conda/envs/pystan/include -std=c++1y -D_REENTRANT -Wno-sign-compare -Wno-ignored-attributes      -I /opt/conda/envs/pystan/include/    -O3 -I src -I stan/src -I lib/rapidjson_1.1.0/ -I lib/CLI11-1.9.1/ -I stan/lib/stan_math/ -I stan/lib/stan_math/lib/eigen_3.3.9 -I stan/lib/stan_math/lib/boost_1.78.0 -I stan/lib/stan_math/lib/sundials_6.1.1/include -I stan/lib/stan_math/lib/sundials_6.1.1/src/sundials -DNDEBUG -D_FORTIFY_SOURCE=2 -O2 -isystem /opt/conda/envs/pystan/include    -DBOOST_DISABLE_ASSERTS   -DTBB_INTERFACE_NEW  -DTBB_INTERFACE_NEW     -c  -x c++ -o /home/ubuntu/sequoia/stanfiles/simulate_GP.o /home/ubuntu/sequoia/stanfiles/simulate_GP.hpp\n",
      "/opt/conda/envs/pystan/bin/x86_64-conda-linux-gnu-c++ -fvisibility-inlines-hidden -std=c++17 -fmessage-length=0 -march=nocona -mtune=haswell -ftree-vectorize -fPIC -fstack-protector-strong -fno-plt -O2 -ffunction-sections -pipe -isystem /opt/conda/envs/pystan/include -std=c++1y -D_REENTRANT -Wno-sign-compare -Wno-ignored-attributes      -I /opt/conda/envs/pystan/include/    -O3 -I src -I stan/src -I lib/rapidjson_1.1.0/ -I lib/CLI11-1.9.1/ -I stan/lib/stan_math/ -I stan/lib/stan_math/lib/eigen_3.3.9 -I stan/lib/stan_math/lib/boost_1.78.0 -I stan/lib/stan_math/lib/sundials_6.1.1/include -I stan/lib/stan_math/lib/sundials_6.1.1/src/sundials -DNDEBUG -D_FORTIFY_SOURCE=2 -O2 -isystem /opt/conda/envs/pystan/include    -DBOOST_DISABLE_ASSERTS   -DTBB_INTERFACE_NEW  -DTBB_INTERFACE_NEW    -Wl,-O2 -Wl,--sort-common -Wl,--as-needed -Wl,-z,relro -Wl,-z,now -Wl,--disable-new-dtags -Wl,--gc-sections -Wl,--allow-shlib-undefined -Wl,-rpath,/opt/conda/envs/pystan/lib -Wl,-rpath-link,/opt/conda/envs/pystan/lib -L/opt/conda/envs/pystan/lib        -Wl,-L,\"/opt/conda/envs/pystan/lib/\" -Wl,-rpath,\"/opt/conda/envs/pystan/lib/\" -Wl,--disable-new-dtags -ltbb    /home/ubuntu/sequoia/stanfiles/simulate_GP.o src/cmdstan/main.o        -Wl,-L,\"/opt/conda/envs/pystan/lib/\" -Wl,-rpath,\"/opt/conda/envs/pystan/lib/\" -Wl,--disable-new-dtags -ltbb stan/lib/stan_math/lib/sundials_6.1.1/lib/libsundials_nvecserial.a stan/lib/stan_math/lib/sundials_6.1.1/lib/libsundials_cvodes.a stan/lib/stan_math/lib/sundials_6.1.1/lib/libsundials_idas.a stan/lib/stan_math/lib/sundials_6.1.1/lib/libsundials_kinsol.a   -o /home/ubuntu/sequoia/stanfiles/simulate_GP\n",
      "rm -f /home/ubuntu/sequoia/stanfiles/simulate_GP.o\n",
      "\n"
     ]
    },
    {
     "name": "stdout",
     "output_type": "stream",
     "text": [
      "CmdStanModel: name=simulate_GP\n",
      "\t stan_file=/home/ubuntu/sequoia/stanfiles/simulate_GP.stan\n",
      "\t exe_file=/home/ubuntu/sequoia/stanfiles/simulate_GP\n",
      "\t compiler_options=stanc_options={}, cpp_options={}\n",
      "{'stan_version_major': '2', 'stan_version_minor': '30', 'stan_version_patch': '0', 'STAN_THREADS': 'false', 'STAN_MPI': 'false', 'STAN_OPENCL': 'false', 'STAN_NO_RANGE_CHECKS': 'false', 'STAN_CPP_OPTIMS': 'false'}\n"
     ]
    }
   ],
   "source": [
    "stan_file = os.path.join('stanfiles','simulate_GP.stan')\n",
    "model = CmdStanModel(stan_file=stan_file)\n",
    "\n",
    "print(model)\n",
    "\n",
    "print(model.exe_info())"
   ]
  },
  {
   "cell_type": "code",
   "execution_count": 66,
   "id": "cbb452bc",
   "metadata": {},
   "outputs": [
    {
     "name": "stderr",
     "output_type": "stream",
     "text": [
      "23:17:47 - cmdstanpy - INFO - CmdStan start processing\n"
     ]
    },
    {
     "data": {
      "application/vnd.jupyter.widget-view+json": {
       "model_id": "8fec5bfaff3e40ca81e54a1c369506db",
       "version_major": 2,
       "version_minor": 0
      },
      "text/plain": [
       "chain 1 |          | 00:00 Status"
      ]
     },
     "metadata": {},
     "output_type": "display_data"
    },
    {
     "data": {
      "application/vnd.jupyter.widget-view+json": {
       "model_id": "439ecc22908040d88b5f428eb301ca49",
       "version_major": 2,
       "version_minor": 0
      },
      "text/plain": [
       "chain 2 |          | 00:00 Status"
      ]
     },
     "metadata": {},
     "output_type": "display_data"
    },
    {
     "data": {
      "application/vnd.jupyter.widget-view+json": {
       "model_id": "aa5846be0ab4418ea09f29ff1a780163",
       "version_major": 2,
       "version_minor": 0
      },
      "text/plain": [
       "chain 3 |          | 00:00 Status"
      ]
     },
     "metadata": {},
     "output_type": "display_data"
    },
    {
     "data": {
      "application/vnd.jupyter.widget-view+json": {
       "model_id": "3d0913beadd14a72b5194f1fba1cea74",
       "version_major": 2,
       "version_minor": 0
      },
      "text/plain": [
       "chain 4 |          | 00:00 Status"
      ]
     },
     "metadata": {},
     "output_type": "display_data"
    },
    {
     "name": "stdout",
     "output_type": "stream",
     "text": [
      "                                                                                                                                                                                                                                                                                                                                "
     ]
    },
    {
     "name": "stderr",
     "output_type": "stream",
     "text": [
      "23:17:47 - cmdstanpy - INFO - CmdStan done processing.\n"
     ]
    },
    {
     "name": "stdout",
     "output_type": "stream",
     "text": [
      "\n"
     ]
    }
   ],
   "source": [
    "\n",
    "N = 551\n",
    "x = 22 * (np.arange(N))/(N-1) - 11  # covariate grid\n",
    "alpha_true = 3\n",
    "rho_true = 5.5\n",
    "simu_data = {'N':N, \"x\":x, \"alpha\":alpha_true, \"rho\":rho_true}\n",
    "sigma_true=2\n",
    "simu_data['sigma'] = sigma_true\n",
    "fit = model.sample(data=simu_data)"
   ]
  },
  {
   "cell_type": "code",
   "execution_count": 67,
   "id": "35cc2189",
   "metadata": {},
   "outputs": [],
   "source": [
    "y_all = fit.stan_variable('y')\n",
    "f_all = fit.stan_variable('f')"
   ]
  },
  {
   "cell_type": "code",
   "execution_count": 68,
   "id": "b05eabef",
   "metadata": {},
   "outputs": [
    {
     "data": {
      "text/plain": [
       "((4000, 551), (4000, 551))"
      ]
     },
     "execution_count": 68,
     "metadata": {},
     "output_type": "execute_result"
    }
   ],
   "source": [
    "y_all.shape, f_all.shape"
   ]
  },
  {
   "cell_type": "code",
   "execution_count": 69,
   "id": "ac3e69e0",
   "metadata": {},
   "outputs": [
    {
     "data": {
      "image/png": "[encoded data removed]",
      "text/plain": [
       "<Figure size 800x400 with 6 Axes>"
      ]
     },
     "metadata": {},
     "output_type": "display_data"
    }
   ],
   "source": [
    "plt.figure(figsize = (8, 4))\n",
    "for i in range(6):\n",
    "    plt.subplot(3,2,i+1)\n",
    "    plt.plot(x,y_all[i], '.')\n",
    "    plt.plot(x,f_all[i])"
   ]
  },
  {
   "cell_type": "code",
   "execution_count": 70,
   "id": "7372d49c",
   "metadata": {},
   "outputs": [
    {
     "data": {
      "text/plain": [
       "(4000, 551)"
      ]
     },
     "execution_count": 70,
     "metadata": {},
     "output_type": "execute_result"
    }
   ],
   "source": [
    "y_all.shape"
   ]
  },
  {
   "cell_type": "code",
   "execution_count": 71,
   "id": "fe92508b",
   "metadata": {},
   "outputs": [],
   "source": [
    "f  = f_all[0]\n",
    "y  = y_all[0]\n"
   ]
  },
  {
   "cell_type": "code",
   "execution_count": 72,
   "id": "fe1063bc",
   "metadata": {},
   "outputs": [
    {
     "data": {
      "text/plain": [
       "<matplotlib.collections.PathCollection at 0x7f1b38dc5c10>"
      ]
     },
     "execution_count": 72,
     "metadata": {},
     "output_type": "execute_result"
    },
    {
     "data": {
      "image/png": "[encoded data removed]",
      "text/plain": [
       "<Figure size 400x200 with 1 Axes>"
      ]
     },
     "metadata": {},
     "output_type": "display_data"
    }
   ],
   "source": [
    "plt.figure(figsize = (4,2))\n",
    "plt.scatter(x,f, s =1)\n",
    "plt.scatter(x,y, s=1)"
   ]
  },
  {
   "cell_type": "code",
   "execution_count": 73,
   "id": "38f94965",
   "metadata": {},
   "outputs": [],
   "source": [
    "observed_idx = np.array(50 * np.arange(10) + 26)\n",
    "N_obs = len(observed_idx)\n",
    "x_obs = x[observed_idx]\n",
    "y_obs = y[observed_idx]"
   ]
  },
  {
   "cell_type": "code",
   "execution_count": 74,
   "id": "4afd1b0f",
   "metadata": {},
   "outputs": [],
   "source": [
    "N_predict = N\n",
    "x_predict = x\n",
    "y_predict = y\n"
   ]
  },
  {
   "cell_type": "code",
   "execution_count": 75,
   "id": "960eee20",
   "metadata": {},
   "outputs": [
    {
     "data": {
      "text/plain": [
       "[<matplotlib.lines.Line2D at 0x7f1b388b5100>]"
      ]
     },
     "execution_count": 75,
     "metadata": {},
     "output_type": "execute_result"
    },
    {
     "data": {
      "image/png": "[encoded data removed]",
      "text/plain": [
       "<Figure size 500x300 with 1 Axes>"
      ]
     },
     "metadata": {},
     "output_type": "display_data"
    }
   ],
   "source": [
    "plt.figure(figsize = (5,3))\n",
    "plt.plot(x,f,'.',markersize= 1)\n",
    "plt.plot(x_predict, y_predict, '.', markersize= 1)\n",
    "plt.plot(x_obs, y_obs, '.', markersize= 10)"
   ]
  },
  {
   "cell_type": "code",
   "execution_count": 76,
   "id": "fd72b0bd",
   "metadata": {
    "scrolled": true
   },
   "outputs": [],
   "source": [
    "file1 = {'N_obs':N_obs, \n",
    "         \"x_obs\":x_obs,\n",
    "         'y_obs':y_obs,\n",
    "         \"N_predict\":N_predict, \n",
    "         \"x_predict\":x_predict, \n",
    "         \"y_predict\":y_predict,\n",
    "         \"observed_idx\":observed_idx\n",
    "        }\n",
    "\n",
    "file2 = {\n",
    "    'f':f,\n",
    "    'x':x    \n",
    "}"
   ]
  },
  {
   "cell_type": "code",
   "execution_count": 77,
   "id": "030558a4",
   "metadata": {},
   "outputs": [],
   "source": [
    "\n",
    "import pickle"
   ]
  },
  {
   "cell_type": "code",
   "execution_count": 78,
   "id": "7981d39d",
   "metadata": {},
   "outputs": [],
   "source": [
    "pickle.dump(file1, file = open('./output/normal.data.pkl', 'wb'))\n",
    "pickle.dump(file2, file = open('./output/gp_truth.pkl', 'wb'))"
   ]
  },
  {
   "cell_type": "code",
   "execution_count": null,
   "id": "7f79b107",
   "metadata": {},
   "outputs": [],
   "source": []
  },
  {
   "cell_type": "markdown",
   "id": "83f24790",
   "metadata": {},
   "source": [
    "# fit the model"
   ]
  },
  {
   "cell_type": "code",
   "execution_count": 89,
   "id": "9c3851c0",
   "metadata": {},
   "outputs": [],
   "source": [
    "truth  = pickle.load(open('./output/gp_truth.pkl', 'rb'))\n",
    "data = pickle.load(open('./output/normal.data.pkl', 'rb'))\n",
    "\n",
    "\n",
    "data['alpha'] = alpha_true\n",
    "data['rho'] = rho_true\n",
    "data['sigma'] = sigma_true"
   ]
  },
  {
   "cell_type": "code",
   "execution_count": 90,
   "id": "0ce1ff13",
   "metadata": {},
   "outputs": [
    {
     "data": {
      "text/plain": [
       "dict_keys(['N_obs', 'x_obs', 'y_obs', 'N_predict', 'x_predict', 'y_predict', 'observed_idx', 'alpha', 'rho', 'sigma'])"
      ]
     },
     "execution_count": 90,
     "metadata": {},
     "output_type": "execute_result"
    }
   ],
   "source": [
    "data.keys()"
   ]
  },
  {
   "cell_type": "code",
   "execution_count": 114,
   "id": "6f3a89b8",
   "metadata": {
    "scrolled": true
   },
   "outputs": [
    {
     "name": "stderr",
     "output_type": "stream",
     "text": [
      "01:49:47 - cmdstanpy - INFO - compiling stan file /home/ubuntu/sequoia/stanfiles/fit_normal.stan to exe file /home/ubuntu/sequoia/stanfiles/fit_normal\n",
      "01:50:09 - cmdstanpy - INFO - compiled model executable: /home/ubuntu/sequoia/stanfiles/fit_normal\n",
      "01:50:09 - cmdstanpy - WARNING - Stan compiler has produced 5 warnings:\n",
      "01:50:09 - cmdstanpy - WARNING - \n",
      "--- Translating Stan model to C++ code ---\n",
      "bin/stanc  --o=/home/ubuntu/sequoia/stanfiles/fit_normal.hpp /home/ubuntu/sequoia/stanfiles/fit_normal.stan\n",
      "Warning in '/home/ubuntu/sequoia/stanfiles/fit_normal.stan', line 3, column 2: Declaration\n",
      "    of arrays by placing brackets after a variable name is deprecated and\n",
      "    will be removed in Stan 2.32.0. Instead use the array keyword before the\n",
      "    type. This can be changed automatically using the auto-format flag to\n",
      "    stanc\n",
      "Warning in '/home/ubuntu/sequoia/stanfiles/fit_normal.stan', line 6, column 2: Declaration\n",
      "    of arrays by placing brackets after a variable name is deprecated and\n",
      "    will be removed in Stan 2.32.0. Instead use the array keyword before the\n",
      "    type. This can be changed automatically using the auto-format flag to\n",
      "    stanc\n",
      "Warning in '/home/ubuntu/sequoia/stanfiles/fit_normal.stan', line 7, column 2: Declaration\n",
      "    of arrays by placing brackets after a variable name is deprecated and\n",
      "    will be removed in Stan 2.32.0. Instead use the array keyword before the\n",
      "    type. This can be changed automatically using the auto-format flag to\n",
      "    stanc\n",
      "Warning in '/home/ubuntu/sequoia/stanfiles/fit_normal.stan', line 34, column 2: Declaration\n",
      "    of arrays by placing brackets after a variable name is deprecated and\n",
      "    will be removed in Stan 2.32.0. Instead use the array keyword before the\n",
      "    type. This can be changed automatically using the auto-format flag to\n",
      "    stanc\n",
      "Warning in '/home/ubuntu/sequoia/stanfiles/fit_normal.stan', line 15, column 39: cov_exp_quad\n",
      "    is deprecated and will be removed in Stan 2.32.0. Use gp_exp_quad_cov\n",
      "    instead. This can be automatically changed using the canonicalize flag\n",
      "    for stanc\n",
      "\n",
      "--- Compiling, linking C++ code ---\n",
      "/opt/conda/envs/pystan/bin/x86_64-conda-linux-gnu-c++ -fvisibility-inlines-hidden -std=c++17 -fmessage-length=0 -march=nocona -mtune=haswell -ftree-vectorize -fPIC -fstack-protector-strong -fno-plt -O2 -ffunction-sections -pipe -isystem /opt/conda/envs/pystan/include -std=c++1y -D_REENTRANT -Wno-sign-compare -Wno-ignored-attributes      -I /opt/conda/envs/pystan/include/    -O3 -I src -I stan/src -I lib/rapidjson_1.1.0/ -I lib/CLI11-1.9.1/ -I stan/lib/stan_math/ -I stan/lib/stan_math/lib/eigen_3.3.9 -I stan/lib/stan_math/lib/boost_1.78.0 -I stan/lib/stan_math/lib/sundials_6.1.1/include -I stan/lib/stan_math/lib/sundials_6.1.1/src/sundials -DNDEBUG -D_FORTIFY_SOURCE=2 -O2 -isystem /opt/conda/envs/pystan/include    -DBOOST_DISABLE_ASSERTS   -DTBB_INTERFACE_NEW  -DTBB_INTERFACE_NEW     -c  -x c++ -o /home/ubuntu/sequoia/stanfiles/fit_normal.o /home/ubuntu/sequoia/stanfiles/fit_normal.hpp\n",
      "/opt/conda/envs/pystan/bin/x86_64-conda-linux-gnu-c++ -fvisibility-inlines-hidden -std=c++17 -fmessage-length=0 -march=nocona -mtune=haswell -ftree-vectorize -fPIC -fstack-protector-strong -fno-plt -O2 -ffunction-sections -pipe -isystem /opt/conda/envs/pystan/include -std=c++1y -D_REENTRANT -Wno-sign-compare -Wno-ignored-attributes      -I /opt/conda/envs/pystan/include/    -O3 -I src -I stan/src -I lib/rapidjson_1.1.0/ -I lib/CLI11-1.9.1/ -I stan/lib/stan_math/ -I stan/lib/stan_math/lib/eigen_3.3.9 -I stan/lib/stan_math/lib/boost_1.78.0 -I stan/lib/stan_math/lib/sundials_6.1.1/include -I stan/lib/stan_math/lib/sundials_6.1.1/src/sundials -DNDEBUG -D_FORTIFY_SOURCE=2 -O2 -isystem /opt/conda/envs/pystan/include    -DBOOST_DISABLE_ASSERTS   -DTBB_INTERFACE_NEW  -DTBB_INTERFACE_NEW    -Wl,-O2 -Wl,--sort-common -Wl,--as-needed -Wl,-z,relro -Wl,-z,now -Wl,--disable-new-dtags -Wl,--gc-sections -Wl,--allow-shlib-undefined -Wl,-rpath,/opt/conda/envs/pystan/lib -Wl,-rpath-link,/opt/conda/envs/pystan/lib -L/opt/conda/envs/pystan/lib        -Wl,-L,\"/opt/conda/envs/pystan/lib/\" -Wl,-rpath,\"/opt/conda/envs/pystan/lib/\" -Wl,--disable-new-dtags -ltbb    /home/ubuntu/sequoia/stanfiles/fit_normal.o src/cmdstan/main.o        -Wl,-L,\"/opt/conda/envs/pystan/lib/\" -Wl,-rpath,\"/opt/conda/envs/pystan/lib/\" -Wl,--disable-new-dtags -ltbb stan/lib/stan_math/lib/sundials_6.1.1/lib/libsundials_nvecserial.a stan/lib/stan_math/lib/sundials_6.1.1/lib/libsundials_cvodes.a stan/lib/stan_math/lib/sundials_6.1.1/lib/libsundials_idas.a stan/lib/stan_math/lib/sundials_6.1.1/lib/libsundials_kinsol.a   -o /home/ubuntu/sequoia/stanfiles/fit_normal\n",
      "rm -f /home/ubuntu/sequoia/stanfiles/fit_normal.o\n",
      "\n",
      "01:50:09 - cmdstanpy - INFO - CmdStan start processing\n"
     ]
    },
    {
     "data": {
      "application/vnd.jupyter.widget-view+json": {
       "model_id": "336ed55fa17c49c5a21521d260087205",
       "version_major": 2,
       "version_minor": 0
      },
      "text/plain": [
       "chain 1 |          | 00:00 Status"
      ]
     },
     "metadata": {},
     "output_type": "display_data"
    },
    {
     "data": {
      "application/vnd.jupyter.widget-view+json": {
       "model_id": "7cc43fa60fd24b3da212511c631dd360",
       "version_major": 2,
       "version_minor": 0
      },
      "text/plain": [
       "chain 2 |          | 00:00 Status"
      ]
     },
     "metadata": {},
     "output_type": "display_data"
    },
    {
     "data": {
      "application/vnd.jupyter.widget-view+json": {
       "model_id": "a62d82139dc34c92b4f788db38444657",
       "version_major": 2,
       "version_minor": 0
      },
      "text/plain": [
       "chain 3 |          | 00:00 Status"
      ]
     },
     "metadata": {},
     "output_type": "display_data"
    },
    {
     "data": {
      "application/vnd.jupyter.widget-view+json": {
       "model_id": "50a85eb3fdfc471492f10ff2e2e7dc2c",
       "version_major": 2,
       "version_minor": 0
      },
      "text/plain": [
       "chain 4 |          | 00:00 Status"
      ]
     },
     "metadata": {},
     "output_type": "display_data"
    },
    {
     "name": "stdout",
     "output_type": "stream",
     "text": [
      "                                                                                                                                                                                                                                                                                                                                "
     ]
    },
    {
     "name": "stderr",
     "output_type": "stream",
     "text": [
      "01:50:18 - cmdstanpy - INFO - CmdStan done processing.\n"
     ]
    },
    {
     "name": "stdout",
     "output_type": "stream",
     "text": [
      "\n"
     ]
    }
   ],
   "source": [
    "stan_file = os.path.join('stanfiles','fit_normal.stan')\n",
    "model = CmdStanModel(stan_file=stan_file)\n",
    "\n",
    "normal_fit = model.sample(data=data)"
   ]
  },
  {
   "cell_type": "markdown",
   "id": "5e3cd4e6",
   "metadata": {},
   "source": [
    "```\n",
    "samples <- extract(fit)\n",
    "I <- length(samples$f_predict[,1])\n",
    "\n",
    "plot_idx <- seq(1, I, 80)\n",
    "N <- length(plot_idx)\n",
    "line_colors <- colormap(colormap=nom_colors, nshades=N)\n",
    "\n",
    "plot(1, type=\"n\", xlab=\"x\", ylab=\"f\", main=title,\n",
    "   xlim=c(-11, 11), ylim=c(-12, 12))\n",
    "for (n in 1:N)\n",
    "lines(data$x_predict, samples$f_predict[plot_idx[n],], col=line_colors[n], lwd=2)\n",
    "\n",
    "lines(true$x, true$f, lwd=4, xlab=\"x\", ylab=\"f\", col=\"white\")\n",
    "lines(true$x, true$f, lwd=2, xlab=\"x\", ylab=\"f\", col=\"black\")\n",
    "\n",
    "```"
   ]
  },
  {
   "cell_type": "code",
   "execution_count": 142,
   "id": "4905cdf5",
   "metadata": {},
   "outputs": [
    {
     "data": {
      "text/plain": [
       "Text(0.5, 1.0, 'Posterior Realizations')"
      ]
     },
     "execution_count": 142,
     "metadata": {},
     "output_type": "execute_result"
    },
    {
     "data": {
      "image/png": "[encoded data removed]",
      "text/plain": [
       "<Figure size 640x480 with 1 Axes>"
      ]
     },
     "metadata": {},
     "output_type": "display_data"
    }
   ],
   "source": [
    "I = len(normal_fit.stan_variable('f_predict'))\n",
    "plot_idx = np.arange(0, I, 80)\n",
    "p = len(plot_idx)\n",
    "for n in range(p):\n",
    "    plt.plot(data['x_predict'],\n",
    "             normal_fit.stan_variable('f_predict')[plot_idx[n]], lw=.4, color = 'pink')\n",
    "plt.plot(truth['x'],truth['f'], lw =10, color = 'white')\n",
    "plt.plot(truth['x'],truth['f'], lw =1, color = 'red')\n",
    "plt.title(\"Posterior Realizations\")"
   ]
  },
  {
   "cell_type": "code",
   "execution_count": null,
   "id": "05be1ad0",
   "metadata": {},
   "outputs": [],
   "source": []
  },
  {
   "cell_type": "code",
   "execution_count": null,
   "id": "b159b22e",
   "metadata": {},
   "outputs": [],
   "source": []
  },
  {
   "cell_type": "code",
   "execution_count": null,
   "id": "21bed870",
   "metadata": {},
   "outputs": [],
   "source": []
  },
  {
   "cell_type": "code",
   "execution_count": null,
   "id": "778d3072",
   "metadata": {},
   "outputs": [],
   "source": []
  },
  {
   "cell_type": "code",
   "execution_count": null,
   "id": "f838cc25",
   "metadata": {},
   "outputs": [],
   "source": []
  },
  {
   "cell_type": "code",
   "execution_count": null,
   "id": "1c6075e7",
   "metadata": {},
   "outputs": [],
   "source": []
  },
  {
   "cell_type": "code",
   "execution_count": null,
   "id": "324fa066",
   "metadata": {},
   "outputs": [],
   "source": []
  },
  {
   "cell_type": "code",
   "execution_count": null,
   "id": "108bfafc",
   "metadata": {},
   "outputs": [],
   "source": []
  },
  {
   "cell_type": "code",
   "execution_count": null,
   "id": "aeed902a",
   "metadata": {},
   "outputs": [],
   "source": []
  },
  {
   "cell_type": "code",
   "execution_count": null,
   "id": "e3188743",
   "metadata": {},
   "outputs": [],
   "source": []
  },
  {
   "cell_type": "code",
   "execution_count": null,
   "id": "003b35c2",
   "metadata": {},
   "outputs": [],
   "source": []
  },
  {
   "cell_type": "code",
   "execution_count": null,
   "id": "87c0734d",
   "metadata": {},
   "outputs": [],
   "source": []
  },
  {
   "cell_type": "code",
   "execution_count": null,
   "id": "9d56e1af",
   "metadata": {},
   "outputs": [],
   "source": []
  },
  {
   "cell_type": "code",
   "execution_count": null,
   "id": "35b0dbd5",
   "metadata": {},
   "outputs": [],
   "source": []
  },
  {
   "cell_type": "code",
   "execution_count": null,
   "id": "075a13b7",
   "metadata": {},
   "outputs": [],
   "source": []
  },
  {
   "cell_type": "markdown",
   "id": "5a9bccc5",
   "metadata": {},
   "source": [
    "  # older"
   ]
  },
  {
   "cell_type": "code",
   "execution_count": null,
   "id": "df07d9f6",
   "metadata": {},
   "outputs": [],
   "source": []
  },
  {
   "cell_type": "code",
   "execution_count": 4,
   "id": "0720e813",
   "metadata": {},
   "outputs": [
    {
     "name": "stdout",
     "output_type": "stream",
     "text": [
      "CmdStanModel: name=bernoulli\n",
      "\t stan_file=/home/ubuntu/sequoia/stanfiles/bernoulli.stan\n",
      "\t exe_file=/home/ubuntu/sequoia/stanfiles/bernoulli\n",
      "\t compiler_options=stanc_options={}, cpp_options={}\n",
      "{'stan_version_major': '2', 'stan_version_minor': '30', 'stan_version_patch': '0', 'STAN_THREADS': 'false', 'STAN_MPI': 'false', 'STAN_OPENCL': 'false', 'STAN_NO_RANGE_CHECKS': 'false', 'STAN_CPP_OPTIMS': 'false'}\n"
     ]
    }
   ],
   "source": [
    "stan_file = os.path.join('stanfiles','bernoulli.stan')\n",
    "\n",
    "\n",
    "model = CmdStanModel(stan_file=stan_file)\n",
    "\n",
    "print(model)\n",
    "\n",
    "print(model.exe_info())"
   ]
  },
  {
   "cell_type": "code",
   "execution_count": null,
   "id": "d5ac2f2e",
   "metadata": {},
   "outputs": [],
   "source": []
  },
  {
   "cell_type": "code",
   "execution_count": null,
   "id": "a02989e8",
   "metadata": {},
   "outputs": [],
   "source": []
  },
  {
   "cell_type": "code",
   "execution_count": null,
   "id": "01ba688c",
   "metadata": {},
   "outputs": [],
   "source": []
  },
  {
   "cell_type": "code",
   "execution_count": 5,
   "id": "ca6bf014",
   "metadata": {},
   "outputs": [
    {
     "name": "stderr",
     "output_type": "stream",
     "text": [
      "22:48:03 - cmdstanpy - INFO - CmdStan start processing\n"
     ]
    },
    {
     "data": {
      "application/vnd.jupyter.widget-view+json": {
       "model_id": "2c3cd64601184c798536485f01da5ec3",
       "version_major": 2,
       "version_minor": 0
      },
      "text/plain": [
       "chain 1 |          | 00:00 Status"
      ]
     },
     "metadata": {},
     "output_type": "display_data"
    },
    {
     "data": {
      "application/vnd.jupyter.widget-view+json": {
       "model_id": "d4d997b940b64ceb983cf7b7c5a0db02",
       "version_major": 2,
       "version_minor": 0
      },
      "text/plain": [
       "chain 2 |          | 00:00 Status"
      ]
     },
     "metadata": {},
     "output_type": "display_data"
    },
    {
     "data": {
      "application/vnd.jupyter.widget-view+json": {
       "model_id": "8b038b1ed46e4eb79dbbacb0f6a38f44",
       "version_major": 2,
       "version_minor": 0
      },
      "text/plain": [
       "chain 3 |          | 00:00 Status"
      ]
     },
     "metadata": {},
     "output_type": "display_data"
    },
    {
     "data": {
      "application/vnd.jupyter.widget-view+json": {
       "model_id": "7d26f3ce1eb248079eed2e1455bfdb82",
       "version_major": 2,
       "version_minor": 0
      },
      "text/plain": [
       "chain 4 |          | 00:00 Status"
      ]
     },
     "metadata": {},
     "output_type": "display_data"
    },
    {
     "name": "stdout",
     "output_type": "stream",
     "text": [
      "                                                                                                                                                                                                                                                                                                                                "
     ]
    },
    {
     "name": "stderr",
     "output_type": "stream",
     "text": [
      "22:48:03 - cmdstanpy - INFO - CmdStan done processing.\n"
     ]
    },
    {
     "name": "stdout",
     "output_type": "stream",
     "text": [
      "\n"
     ]
    }
   ],
   "source": [
    "data_file = os.path.join('stanfiles', 'bernoulli.data.json')\n",
    "\n",
    "fit = model.sample(data=data_file)\n",
    "                                                                                                                                                                                                                                                                                                                                "
   ]
  },
  {
   "cell_type": "code",
   "execution_count": null,
   "id": "673d1f93",
   "metadata": {},
   "outputs": [],
   "source": []
  },
  {
   "cell_type": "code",
   "execution_count": 6,
   "id": "bd243687",
   "metadata": {},
   "outputs": [
    {
     "name": "stdout",
     "output_type": "stream",
     "text": [
      "[0.142046 0.249416 0.351906 ... 0.272498 0.122772 0.257947]\n",
      "      theta\n",
      "0  0.142046\n",
      "1  0.249416\n",
      "2  0.351906\n"
     ]
    }
   ],
   "source": [
    "print(fit.stan_variable('theta'))\n",
    "\n",
    "print(fit.draws_pd('theta')[:3])\n",
    "\n",
    "# print(fit.draws_xr('theta'))\n"
   ]
  },
  {
   "cell_type": "code",
   "execution_count": 7,
   "id": "4c9cf58a",
   "metadata": {},
   "outputs": [
    {
     "data": {
      "text/html": [
       "<div>\n",
       "<style scoped>\n",
       "    .dataframe tbody tr th:only-of-type {\n",
       "        vertical-align: middle;\n",
       "    }\n",
       "\n",
       "    .dataframe tbody tr th {\n",
       "        vertical-align: top;\n",
       "    }\n",
       "\n",
       "    .dataframe thead th {\n",
       "        text-align: right;\n",
       "    }\n",
       "</style>\n",
       "<table border=\"1\" class=\"dataframe\">\n",
       "  <thead>\n",
       "    <tr style=\"text-align: right;\">\n",
       "      <th></th>\n",
       "      <th>lp__</th>\n",
       "      <th>accept_stat__</th>\n",
       "      <th>stepsize__</th>\n",
       "      <th>treedepth__</th>\n",
       "      <th>n_leapfrog__</th>\n",
       "      <th>divergent__</th>\n",
       "      <th>energy__</th>\n",
       "      <th>theta</th>\n",
       "    </tr>\n",
       "  </thead>\n",
       "  <tbody>\n",
       "    <tr>\n",
       "      <th>0</th>\n",
       "      <td>-7.23365</td>\n",
       "      <td>0.932649</td>\n",
       "      <td>0.99643</td>\n",
       "      <td>1.0</td>\n",
       "      <td>3.0</td>\n",
       "      <td>0.0</td>\n",
       "      <td>7.23520</td>\n",
       "      <td>0.142046</td>\n",
       "    </tr>\n",
       "    <tr>\n",
       "      <th>1</th>\n",
       "      <td>-6.74803</td>\n",
       "      <td>0.996858</td>\n",
       "      <td>0.99643</td>\n",
       "      <td>2.0</td>\n",
       "      <td>3.0</td>\n",
       "      <td>0.0</td>\n",
       "      <td>7.22046</td>\n",
       "      <td>0.249416</td>\n",
       "    </tr>\n",
       "    <tr>\n",
       "      <th>2</th>\n",
       "      <td>-7.03665</td>\n",
       "      <td>0.924047</td>\n",
       "      <td>0.99643</td>\n",
       "      <td>1.0</td>\n",
       "      <td>3.0</td>\n",
       "      <td>0.0</td>\n",
       "      <td>7.05457</td>\n",
       "      <td>0.351906</td>\n",
       "    </tr>\n",
       "    <tr>\n",
       "      <th>3</th>\n",
       "      <td>-6.78722</td>\n",
       "      <td>0.989617</td>\n",
       "      <td>0.99643</td>\n",
       "      <td>1.0</td>\n",
       "      <td>3.0</td>\n",
       "      <td>0.0</td>\n",
       "      <td>7.06449</td>\n",
       "      <td>0.216134</td>\n",
       "    </tr>\n",
       "    <tr>\n",
       "      <th>4</th>\n",
       "      <td>-6.93053</td>\n",
       "      <td>0.961148</td>\n",
       "      <td>0.99643</td>\n",
       "      <td>1.0</td>\n",
       "      <td>1.0</td>\n",
       "      <td>0.0</td>\n",
       "      <td>6.93064</td>\n",
       "      <td>0.179987</td>\n",
       "    </tr>\n",
       "    <tr>\n",
       "      <th>...</th>\n",
       "      <td>...</td>\n",
       "      <td>...</td>\n",
       "      <td>...</td>\n",
       "      <td>...</td>\n",
       "      <td>...</td>\n",
       "      <td>...</td>\n",
       "      <td>...</td>\n",
       "      <td>...</td>\n",
       "    </tr>\n",
       "    <tr>\n",
       "      <th>3995</th>\n",
       "      <td>-6.84442</td>\n",
       "      <td>0.976124</td>\n",
       "      <td>1.04882</td>\n",
       "      <td>2.0</td>\n",
       "      <td>3.0</td>\n",
       "      <td>0.0</td>\n",
       "      <td>6.89998</td>\n",
       "      <td>0.307362</td>\n",
       "    </tr>\n",
       "    <tr>\n",
       "      <th>3996</th>\n",
       "      <td>-7.09978</td>\n",
       "      <td>0.968044</td>\n",
       "      <td>1.04882</td>\n",
       "      <td>2.0</td>\n",
       "      <td>3.0</td>\n",
       "      <td>0.0</td>\n",
       "      <td>7.10746</td>\n",
       "      <td>0.363145</td>\n",
       "    </tr>\n",
       "    <tr>\n",
       "      <th>3997</th>\n",
       "      <td>-6.76362</td>\n",
       "      <td>0.871747</td>\n",
       "      <td>1.04882</td>\n",
       "      <td>2.0</td>\n",
       "      <td>3.0</td>\n",
       "      <td>0.0</td>\n",
       "      <td>7.67381</td>\n",
       "      <td>0.272498</td>\n",
       "    </tr>\n",
       "    <tr>\n",
       "      <th>3998</th>\n",
       "      <td>-7.47118</td>\n",
       "      <td>0.879190</td>\n",
       "      <td>1.04882</td>\n",
       "      <td>2.0</td>\n",
       "      <td>3.0</td>\n",
       "      <td>0.0</td>\n",
       "      <td>7.51542</td>\n",
       "      <td>0.122772</td>\n",
       "    </tr>\n",
       "    <tr>\n",
       "      <th>3999</th>\n",
       "      <td>-6.75001</td>\n",
       "      <td>1.000000</td>\n",
       "      <td>1.04882</td>\n",
       "      <td>2.0</td>\n",
       "      <td>3.0</td>\n",
       "      <td>0.0</td>\n",
       "      <td>7.35086</td>\n",
       "      <td>0.257947</td>\n",
       "    </tr>\n",
       "  </tbody>\n",
       "</table>\n",
       "<p>4000 rows × 8 columns</p>\n",
       "</div>"
      ],
      "text/plain": [
       "         lp__  accept_stat__  stepsize__  treedepth__  n_leapfrog__  \\\n",
       "0    -7.23365       0.932649     0.99643          1.0           3.0   \n",
       "1    -6.74803       0.996858     0.99643          2.0           3.0   \n",
       "2    -7.03665       0.924047     0.99643          1.0           3.0   \n",
       "3    -6.78722       0.989617     0.99643          1.0           3.0   \n",
       "4    -6.93053       0.961148     0.99643          1.0           1.0   \n",
       "...       ...            ...         ...          ...           ...   \n",
       "3995 -6.84442       0.976124     1.04882          2.0           3.0   \n",
       "3996 -7.09978       0.968044     1.04882          2.0           3.0   \n",
       "3997 -6.76362       0.871747     1.04882          2.0           3.0   \n",
       "3998 -7.47118       0.879190     1.04882          2.0           3.0   \n",
       "3999 -6.75001       1.000000     1.04882          2.0           3.0   \n",
       "\n",
       "      divergent__  energy__     theta  \n",
       "0             0.0   7.23520  0.142046  \n",
       "1             0.0   7.22046  0.249416  \n",
       "2             0.0   7.05457  0.351906  \n",
       "3             0.0   7.06449  0.216134  \n",
       "4             0.0   6.93064  0.179987  \n",
       "...           ...       ...       ...  \n",
       "3995          0.0   6.89998  0.307362  \n",
       "3996          0.0   7.10746  0.363145  \n",
       "3997          0.0   7.67381  0.272498  \n",
       "3998          0.0   7.51542  0.122772  \n",
       "3999          0.0   7.35086  0.257947  \n",
       "\n",
       "[4000 rows x 8 columns]"
      ]
     },
     "execution_count": 7,
     "metadata": {},
     "output_type": "execute_result"
    }
   ],
   "source": [
    "fit.draws_pd()\n"
   ]
  },
  {
   "cell_type": "code",
   "execution_count": null,
   "id": "10776b9f",
   "metadata": {},
   "outputs": [],
   "source": []
  },
  {
   "cell_type": "code",
   "execution_count": 8,
   "id": "ac003134",
   "metadata": {},
   "outputs": [
    {
     "name": "stdout",
     "output_type": "stream",
     "text": [
      "[[0.573566]\n",
      " [0.555595]\n",
      " [0.580434]\n",
      " [0.452911]]\n"
     ]
    }
   ],
   "source": [
    "print(fit.metric)\n"
   ]
  },
  {
   "cell_type": "code",
   "execution_count": 9,
   "id": "2144cd8b",
   "metadata": {},
   "outputs": [
    {
     "data": {
      "text/html": [
       "<div>\n",
       "<style scoped>\n",
       "    .dataframe tbody tr th:only-of-type {\n",
       "        vertical-align: middle;\n",
       "    }\n",
       "\n",
       "    .dataframe tbody tr th {\n",
       "        vertical-align: top;\n",
       "    }\n",
       "\n",
       "    .dataframe thead th {\n",
       "        text-align: right;\n",
       "    }\n",
       "</style>\n",
       "<table border=\"1\" class=\"dataframe\">\n",
       "  <thead>\n",
       "    <tr style=\"text-align: right;\">\n",
       "      <th></th>\n",
       "      <th>Mean</th>\n",
       "      <th>MCSE</th>\n",
       "      <th>StdDev</th>\n",
       "      <th>5%</th>\n",
       "      <th>50%</th>\n",
       "      <th>95%</th>\n",
       "      <th>N_Eff</th>\n",
       "      <th>N_Eff/s</th>\n",
       "      <th>R_hat</th>\n",
       "    </tr>\n",
       "  </thead>\n",
       "  <tbody>\n",
       "    <tr>\n",
       "      <th>lp__</th>\n",
       "      <td>-7.283610</td>\n",
       "      <td>0.020405</td>\n",
       "      <td>0.763801</td>\n",
       "      <td>-8.807790</td>\n",
       "      <td>-6.990430</td>\n",
       "      <td>-6.750310</td>\n",
       "      <td>1401.18</td>\n",
       "      <td>32585.6</td>\n",
       "      <td>1.000710</td>\n",
       "    </tr>\n",
       "    <tr>\n",
       "      <th>theta</th>\n",
       "      <td>0.247439</td>\n",
       "      <td>0.003183</td>\n",
       "      <td>0.119087</td>\n",
       "      <td>0.075382</td>\n",
       "      <td>0.233975</td>\n",
       "      <td>0.461277</td>\n",
       "      <td>1400.14</td>\n",
       "      <td>32561.3</td>\n",
       "      <td>0.999925</td>\n",
       "    </tr>\n",
       "  </tbody>\n",
       "</table>\n",
       "</div>"
      ],
      "text/plain": [
       "           Mean      MCSE    StdDev        5%       50%       95%    N_Eff  \\\n",
       "lp__  -7.283610  0.020405  0.763801 -8.807790 -6.990430 -6.750310  1401.18   \n",
       "theta  0.247439  0.003183  0.119087  0.075382  0.233975  0.461277  1400.14   \n",
       "\n",
       "       N_Eff/s     R_hat  \n",
       "lp__   32585.6  1.000710  \n",
       "theta  32561.3  0.999925  "
      ]
     },
     "execution_count": 9,
     "metadata": {},
     "output_type": "execute_result"
    }
   ],
   "source": [
    "fit.summary()"
   ]
  },
  {
   "cell_type": "code",
   "execution_count": 10,
   "id": "247f343b",
   "metadata": {},
   "outputs": [
    {
     "name": "stdout",
     "output_type": "stream",
     "text": [
      "Processing csv files: /tmp/tmpf24czwxu/bernoullii0zpkntu/bernoulli-20221123224803_1.csv, /tmp/tmpf24czwxu/bernoullii0zpkntu/bernoulli-20221123224803_2.csv, /tmp/tmpf24czwxu/bernoullii0zpkntu/bernoulli-20221123224803_3.csv, /tmp/tmpf24czwxu/bernoullii0zpkntu/bernoulli-20221123224803_4.csv\n",
      "\n",
      "Checking sampler transitions treedepth.\n",
      "Treedepth satisfactory for all transitions.\n",
      "\n",
      "Checking sampler transitions for divergences.\n",
      "No divergent transitions found.\n",
      "\n",
      "Checking E-BFMI - sampler transitions HMC potential energy.\n",
      "E-BFMI satisfactory.\n",
      "\n",
      "Effective sample size satisfactory.\n",
      "\n",
      "Split R-hat values satisfactory all parameters.\n",
      "\n",
      "Processing complete, no problems detected.\n",
      "\n"
     ]
    }
   ],
   "source": [
    "print(fit.diagnose())"
   ]
  },
  {
   "cell_type": "code",
   "execution_count": null,
   "id": "0e6e5243",
   "metadata": {},
   "outputs": [],
   "source": []
  },
  {
   "cell_type": "code",
   "execution_count": null,
   "id": "2dfabc46",
   "metadata": {},
   "outputs": [],
   "source": []
  },
  {
   "cell_type": "code",
   "execution_count": null,
   "id": "9ef89bbf",
   "metadata": {},
   "outputs": [],
   "source": []
  },
  {
   "cell_type": "code",
   "execution_count": null,
   "id": "ac4e378d",
   "metadata": {},
   "outputs": [],
   "source": []
  },
  {
   "cell_type": "markdown",
   "id": "3076aff7",
   "metadata": {},
   "source": [
    "# test GP here "
   ]
  },
  {
   "cell_type": "code",
   "execution_count": 11,
   "id": "f8cc63a0",
   "metadata": {},
   "outputs": [],
   "source": [
    "import numpy as np"
   ]
  },
  {
   "cell_type": "code",
   "execution_count": 12,
   "id": "6a30ff9f",
   "metadata": {},
   "outputs": [
    {
     "name": "stdout",
     "output_type": "stream",
     "text": [
      "CmdStanModel: name=gp_model\n",
      "\t stan_file=/home/ubuntu/sequoia/stanfiles/gp_model.stan\n",
      "\t exe_file=/home/ubuntu/sequoia/stanfiles/gp_model\n",
      "\t compiler_options=stanc_options={}, cpp_options={}\n",
      "{'stan_version_major': '2', 'stan_version_minor': '30', 'stan_version_patch': '0', 'STAN_THREADS': 'false', 'STAN_MPI': 'false', 'STAN_OPENCL': 'false', 'STAN_NO_RANGE_CHECKS': 'false', 'STAN_CPP_OPTIMS': 'false'}\n"
     ]
    }
   ],
   "source": [
    "\n",
    "stan_file = os.path.join('stanfiles','gp_model.stan')\n",
    "model = CmdStanModel(stan_file=stan_file)\n",
    "print(model)\n",
    "print(model.exe_info())\n"
   ]
  },
  {
   "cell_type": "code",
   "execution_count": 13,
   "id": "39e4ce3b",
   "metadata": {},
   "outputs": [
    {
     "name": "stderr",
     "output_type": "stream",
     "text": [
      "22:48:03 - cmdstanpy - INFO - CmdStan start processing\n"
     ]
    },
    {
     "data": {
      "application/vnd.jupyter.widget-view+json": {
       "model_id": "e0facdcfd4c7480584da9e35e495fee5",
       "version_major": 2,
       "version_minor": 0
      },
      "text/plain": [
       "chain 1 |          | 00:00 Status"
      ]
     },
     "metadata": {},
     "output_type": "display_data"
    },
    {
     "data": {
      "application/vnd.jupyter.widget-view+json": {
       "model_id": "dd7017cdd7564db0b3253e5dd506fbd8",
       "version_major": 2,
       "version_minor": 0
      },
      "text/plain": [
       "chain 2 |          | 00:00 Status"
      ]
     },
     "metadata": {},
     "output_type": "display_data"
    },
    {
     "data": {
      "application/vnd.jupyter.widget-view+json": {
       "model_id": "18ac466e44cd4d30b2bf707cd3467396",
       "version_major": 2,
       "version_minor": 0
      },
      "text/plain": [
       "chain 3 |          | 00:00 Status"
      ]
     },
     "metadata": {},
     "output_type": "display_data"
    },
    {
     "data": {
      "application/vnd.jupyter.widget-view+json": {
       "model_id": "278cb89e2a9b450e9d6750eaa965790e",
       "version_major": 2,
       "version_minor": 0
      },
      "text/plain": [
       "chain 4 |          | 00:00 Status"
      ]
     },
     "metadata": {},
     "output_type": "display_data"
    },
    {
     "name": "stdout",
     "output_type": "stream",
     "text": [
      "                                                                                                                                                                                                                                                                                                                                "
     ]
    },
    {
     "name": "stderr",
     "output_type": "stream",
     "text": [
      "22:48:04 - cmdstanpy - INFO - CmdStan done processing.\n"
     ]
    },
    {
     "name": "stdout",
     "output_type": "stream",
     "text": [
      "\n"
     ]
    }
   ],
   "source": [
    "\n",
    "N = 551\n",
    "x = 22 * (np.arange(N))/(N-1) - 11  # covariate grid\n",
    "alpha_true = 3\n",
    "rho_true = 5.5\n",
    "simu_data = {'N':N, \"x\":x, \"alpha\":alpha_true, \"rho\":rho_true}\n",
    "simu_data['sigma'] = 2\n",
    "# data_file = os.path.join('stanfiles', 'bernoulli.data.json')\n",
    "\n",
    "fit = model.sample(data=simu_data)"
   ]
  },
  {
   "cell_type": "code",
   "execution_count": null,
   "id": "e491b990",
   "metadata": {},
   "outputs": [],
   "source": []
  },
  {
   "cell_type": "code",
   "execution_count": 14,
   "id": "d20ee13c",
   "metadata": {},
   "outputs": [
    {
     "data": {
      "text/plain": [
       "(4000, 1104)"
      ]
     },
     "execution_count": 14,
     "metadata": {},
     "output_type": "execute_result"
    }
   ],
   "source": [
    "fit.draws_pd().shape\n"
   ]
  },
  {
   "cell_type": "code",
   "execution_count": 15,
   "id": "01992e1d",
   "metadata": {},
   "outputs": [
    {
     "data": {
      "text/html": [
       "<div>\n",
       "<style scoped>\n",
       "    .dataframe tbody tr th:only-of-type {\n",
       "        vertical-align: middle;\n",
       "    }\n",
       "\n",
       "    .dataframe tbody tr th {\n",
       "        vertical-align: top;\n",
       "    }\n",
       "\n",
       "    .dataframe thead th {\n",
       "        text-align: right;\n",
       "    }\n",
       "</style>\n",
       "<table border=\"1\" class=\"dataframe\">\n",
       "  <thead>\n",
       "    <tr style=\"text-align: right;\">\n",
       "      <th></th>\n",
       "      <th>lp__</th>\n",
       "      <th>accept_stat__</th>\n",
       "      <th>f[1]</th>\n",
       "      <th>f[2]</th>\n",
       "      <th>f[3]</th>\n",
       "      <th>f[4]</th>\n",
       "      <th>f[5]</th>\n",
       "      <th>f[6]</th>\n",
       "      <th>f[7]</th>\n",
       "      <th>f[8]</th>\n",
       "      <th>...</th>\n",
       "      <th>y[542]</th>\n",
       "      <th>y[543]</th>\n",
       "      <th>y[544]</th>\n",
       "      <th>y[545]</th>\n",
       "      <th>y[546]</th>\n",
       "      <th>y[547]</th>\n",
       "      <th>y[548]</th>\n",
       "      <th>y[549]</th>\n",
       "      <th>y[550]</th>\n",
       "      <th>y[551]</th>\n",
       "    </tr>\n",
       "  </thead>\n",
       "  <tbody>\n",
       "    <tr>\n",
       "      <th>0</th>\n",
       "      <td>0.0</td>\n",
       "      <td>0.0</td>\n",
       "      <td>-0.356498</td>\n",
       "      <td>-0.370391</td>\n",
       "      <td>-0.384396</td>\n",
       "      <td>-0.398535</td>\n",
       "      <td>-0.412800</td>\n",
       "      <td>-0.427135</td>\n",
       "      <td>-0.441590</td>\n",
       "      <td>-0.456121</td>\n",
       "      <td>...</td>\n",
       "      <td>-10.451800</td>\n",
       "      <td>-7.35625</td>\n",
       "      <td>-5.85113</td>\n",
       "      <td>-7.740830</td>\n",
       "      <td>-1.476530</td>\n",
       "      <td>-6.988280</td>\n",
       "      <td>-6.47273</td>\n",
       "      <td>-6.96267</td>\n",
       "      <td>-2.865410</td>\n",
       "      <td>-5.92463</td>\n",
       "    </tr>\n",
       "    <tr>\n",
       "      <th>1</th>\n",
       "      <td>0.0</td>\n",
       "      <td>0.0</td>\n",
       "      <td>-2.361190</td>\n",
       "      <td>-2.359240</td>\n",
       "      <td>-2.357280</td>\n",
       "      <td>-2.355300</td>\n",
       "      <td>-2.353310</td>\n",
       "      <td>-2.351300</td>\n",
       "      <td>-2.349280</td>\n",
       "      <td>-2.347240</td>\n",
       "      <td>...</td>\n",
       "      <td>2.047040</td>\n",
       "      <td>3.00350</td>\n",
       "      <td>2.83050</td>\n",
       "      <td>6.825640</td>\n",
       "      <td>4.450680</td>\n",
       "      <td>-1.049350</td>\n",
       "      <td>5.14790</td>\n",
       "      <td>5.15187</td>\n",
       "      <td>3.610850</td>\n",
       "      <td>3.63160</td>\n",
       "    </tr>\n",
       "    <tr>\n",
       "      <th>2</th>\n",
       "      <td>0.0</td>\n",
       "      <td>0.0</td>\n",
       "      <td>-2.558210</td>\n",
       "      <td>-2.553870</td>\n",
       "      <td>-2.549590</td>\n",
       "      <td>-2.545400</td>\n",
       "      <td>-2.541250</td>\n",
       "      <td>-2.537140</td>\n",
       "      <td>-2.533120</td>\n",
       "      <td>-2.529130</td>\n",
       "      <td>...</td>\n",
       "      <td>-4.296640</td>\n",
       "      <td>-2.76155</td>\n",
       "      <td>3.79628</td>\n",
       "      <td>0.743797</td>\n",
       "      <td>-1.824910</td>\n",
       "      <td>-0.496821</td>\n",
       "      <td>-5.15332</td>\n",
       "      <td>1.09926</td>\n",
       "      <td>0.330691</td>\n",
       "      <td>-2.89583</td>\n",
       "    </tr>\n",
       "    <tr>\n",
       "      <th>3</th>\n",
       "      <td>0.0</td>\n",
       "      <td>0.0</td>\n",
       "      <td>-1.891340</td>\n",
       "      <td>-1.887530</td>\n",
       "      <td>-1.883930</td>\n",
       "      <td>-1.880550</td>\n",
       "      <td>-1.877360</td>\n",
       "      <td>-1.874420</td>\n",
       "      <td>-1.871690</td>\n",
       "      <td>-1.869160</td>\n",
       "      <td>...</td>\n",
       "      <td>1.461220</td>\n",
       "      <td>3.47357</td>\n",
       "      <td>3.05511</td>\n",
       "      <td>7.364600</td>\n",
       "      <td>1.092320</td>\n",
       "      <td>6.358390</td>\n",
       "      <td>2.98042</td>\n",
       "      <td>5.85802</td>\n",
       "      <td>2.672990</td>\n",
       "      <td>5.14751</td>\n",
       "    </tr>\n",
       "    <tr>\n",
       "      <th>4</th>\n",
       "      <td>0.0</td>\n",
       "      <td>0.0</td>\n",
       "      <td>-0.577681</td>\n",
       "      <td>-0.588299</td>\n",
       "      <td>-0.598520</td>\n",
       "      <td>-0.608323</td>\n",
       "      <td>-0.617715</td>\n",
       "      <td>-0.626672</td>\n",
       "      <td>-0.635238</td>\n",
       "      <td>-0.643374</td>\n",
       "      <td>...</td>\n",
       "      <td>-0.301455</td>\n",
       "      <td>-2.94907</td>\n",
       "      <td>-4.63113</td>\n",
       "      <td>-4.996540</td>\n",
       "      <td>-0.321256</td>\n",
       "      <td>-0.726746</td>\n",
       "      <td>-0.47741</td>\n",
       "      <td>-4.11300</td>\n",
       "      <td>-4.871590</td>\n",
       "      <td>-2.22495</td>\n",
       "    </tr>\n",
       "  </tbody>\n",
       "</table>\n",
       "<p>5 rows × 1104 columns</p>\n",
       "</div>"
      ],
      "text/plain": [
       "   lp__  accept_stat__      f[1]      f[2]      f[3]      f[4]      f[5]  \\\n",
       "0   0.0            0.0 -0.356498 -0.370391 -0.384396 -0.398535 -0.412800   \n",
       "1   0.0            0.0 -2.361190 -2.359240 -2.357280 -2.355300 -2.353310   \n",
       "2   0.0            0.0 -2.558210 -2.553870 -2.549590 -2.545400 -2.541250   \n",
       "3   0.0            0.0 -1.891340 -1.887530 -1.883930 -1.880550 -1.877360   \n",
       "4   0.0            0.0 -0.577681 -0.588299 -0.598520 -0.608323 -0.617715   \n",
       "\n",
       "       f[6]      f[7]      f[8]  ...     y[542]   y[543]   y[544]    y[545]  \\\n",
       "0 -0.427135 -0.441590 -0.456121  ... -10.451800 -7.35625 -5.85113 -7.740830   \n",
       "1 -2.351300 -2.349280 -2.347240  ...   2.047040  3.00350  2.83050  6.825640   \n",
       "2 -2.537140 -2.533120 -2.529130  ...  -4.296640 -2.76155  3.79628  0.743797   \n",
       "3 -1.874420 -1.871690 -1.869160  ...   1.461220  3.47357  3.05511  7.364600   \n",
       "4 -0.626672 -0.635238 -0.643374  ...  -0.301455 -2.94907 -4.63113 -4.996540   \n",
       "\n",
       "     y[546]    y[547]   y[548]   y[549]    y[550]   y[551]  \n",
       "0 -1.476530 -6.988280 -6.47273 -6.96267 -2.865410 -5.92463  \n",
       "1  4.450680 -1.049350  5.14790  5.15187  3.610850  3.63160  \n",
       "2 -1.824910 -0.496821 -5.15332  1.09926  0.330691 -2.89583  \n",
       "3  1.092320  6.358390  2.98042  5.85802  2.672990  5.14751  \n",
       "4 -0.321256 -0.726746 -0.47741 -4.11300 -4.871590 -2.22495  \n",
       "\n",
       "[5 rows x 1104 columns]"
      ]
     },
     "execution_count": 15,
     "metadata": {},
     "output_type": "execute_result"
    }
   ],
   "source": [
    "fit.draws_pd().head()"
   ]
  },
  {
   "cell_type": "markdown",
   "id": "d778ed55",
   "metadata": {},
   "source": [
    "```\n",
    "\n",
    "f <- extract(simu_fit)$f[1,]\n",
    "y <- extract(simu_fit)$y[1,]\n",
    "\n",
    "c_mid_teal=\"#487575\"\n",
    "\n",
    "plot(x, f, type=\"l\", lwd=2, xlab=\"x\", ylab=\"y\",\n",
    "     xlim=c(-11, 11), ylim=c(-10, 10))\n",
    "points(x, y, col=\"white\", pch=16, cex=0.6)\n",
    "points(x, y, col=c_mid_teal, pch=16, cex=0.4)\n",
    "```"
   ]
  },
  {
   "cell_type": "code",
   "execution_count": null,
   "id": "bbdc3c88",
   "metadata": {},
   "outputs": [],
   "source": []
  },
  {
   "cell_type": "code",
   "execution_count": null,
   "id": "4f0ff308",
   "metadata": {},
   "outputs": [],
   "source": []
  },
  {
   "cell_type": "code",
   "execution_count": null,
   "id": "5356f5eb",
   "metadata": {},
   "outputs": [],
   "source": []
  },
  {
   "cell_type": "code",
   "execution_count": null,
   "id": "ce3484d9",
   "metadata": {},
   "outputs": [],
   "source": []
  },
  {
   "cell_type": "code",
   "execution_count": null,
   "id": "88a231d4",
   "metadata": {},
   "outputs": [],
   "source": []
  },
  {
   "cell_type": "code",
   "execution_count": null,
   "id": "ef7314c6",
   "metadata": {},
   "outputs": [],
   "source": []
  },
  {
   "cell_type": "code",
   "execution_count": null,
   "id": "6cbdb1f9",
   "metadata": {},
   "outputs": [],
   "source": []
  }
 ],
 "metadata": {
  "kernelspec": {
   "display_name": "Stan",
   "language": "python",
   "name": "stan"
  },
  "language_info": {
   "codemirror_mode": {
    "name": "ipython",
    "version": 3
   },
   "file_extension": ".py",
   "mimetype": "text/x-python",
   "name": "python",
   "nbconvert_exporter": "python",
   "pygments_lexer": "ipython3",
   "version": "3.9.4"
  }
 },
 "nbformat": 4,
 "nbformat_minor": 5
}
